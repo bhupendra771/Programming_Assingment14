{
 "cells": [
  {
   "cell_type": "code",
   "execution_count": 7,
   "id": "b972ff84",
   "metadata": {},
   "outputs": [
    {
     "name": "stdout",
     "output_type": "stream",
     "text": [
      "0\n",
      "7\n",
      "14\n",
      "21\n",
      "28\n",
      "35\n",
      "42\n",
      "49\n",
      "56\n",
      "63\n",
      "70\n",
      "77\n",
      "84\n",
      "91\n",
      "98\n"
     ]
    }
   ],
   "source": [
    "# Question 1:\n",
    "\n",
    "# Define a class with a generator which can iterate the numbers, which are divisible by 7, between a given range 0 and n.\n",
    "\n",
    "class Gen:\n",
    "    def __init__(self, n):\n",
    "        self.n = n\n",
    "    def divibyseven(self):\n",
    "        for i in range(0, self.n):\n",
    "            if i%7 == 0:\n",
    "                \n",
    "                yield(i)\n",
    "            \n",
    "        \n",
    "        \n",
    "    \n",
    "for num in Gen(100).divibyseven():\n",
    "    print(num)\n",
    "\n",
    "    "
   ]
  },
  {
   "cell_type": "code",
   "execution_count": 27,
   "id": "cb856ebf",
   "metadata": {},
   "outputs": [
    {
     "name": "stdout",
     "output_type": "stream",
     "text": [
      "Enter your stringNew to Python or choosing between Python 2 and Python 3? Read Python 2 or Python 3\n",
      "{'New': 1, 'to': 1, 'Python': 5, 'or': 2, 'choosing': 1, 'between': 1, '2': 2, 'and': 1, '3?': 1, 'Read': 1, '3': 1}\n"
     ]
    }
   ],
   "source": [
    "# Question 2:\n",
    "# Write a program to compute the frequency of the words from the input. The output should output after sorting the key alphanumerically. \n",
    "\n",
    "# Suppose the following input is supplied to the program:\n",
    "\n",
    "# New to Python or choosing between Python 2 and Python 3? Read Python 2 or Python 3.\n",
    "\n",
    "# Then, the output should be:\n",
    "\n",
    "# 2:2\n",
    "\n",
    "# 3.:1\n",
    "\n",
    "# 3?:1\n",
    "\n",
    "# New:1\n",
    "\n",
    "# Python:5\n",
    "\n",
    "# Read:1\n",
    "\n",
    "# and:1\n",
    "\n",
    "# between:1\n",
    "\n",
    "# choosing:1\n",
    "\n",
    "# or:2\n",
    "\n",
    "# to:1\n",
    "import re\n",
    "a = input(\"Enter your string\").split()\n",
    "count = dict()\n",
    "for  i in a:\n",
    "    if i in count:\n",
    "        count[i] +=1\n",
    "    else:\n",
    "        count[i] = 1\n",
    "print(count)\n",
    "        \n",
    "#     print(i)"
   ]
  },
  {
   "cell_type": "code",
   "execution_count": 33,
   "id": "373c2a9e",
   "metadata": {},
   "outputs": [
    {
     "name": "stdout",
     "output_type": "stream",
     "text": [
      "Male\n",
      "Female\n"
     ]
    }
   ],
   "source": [
    "# Question 3:\n",
    "\n",
    "\n",
    "\n",
    "# Define a class Person and its two child classes: Male and Female. All classes have a method \"getGender\" which can print \"Male\" for Male class and \"Female\" for Female class.\n",
    "\n",
    "class Person(object):    \n",
    "    def getGender(self):\n",
    "        return \"Unknown\" \n",
    "    \n",
    "class Male( Person ):\n",
    "    def getGender(self):\n",
    "        return \"Male\"\n",
    "    \n",
    "class Female( Person ):\n",
    "    def getGender(self):\n",
    "        return \"Female\"\n",
    "\n",
    "amale = Male()\n",
    "fem = Female()\n",
    "\n",
    "print(amale.getGender())\n",
    "print(fem.getGender())\n",
    "\n",
    "        \n",
    "\n",
    "        "
   ]
  },
  {
   "cell_type": "code",
   "execution_count": 39,
   "id": "9517c84f",
   "metadata": {},
   "outputs": [
    {
     "name": "stdout",
     "output_type": "stream",
     "text": [
      "I Play Hockey\n",
      "I Play Football\n",
      "I Love Hockey\n",
      "I Love Football\n",
      "You Play Hockey\n",
      "You Play Football\n",
      "You Love Hockey\n",
      "You Love Football\n"
     ]
    }
   ],
   "source": [
    "# Question 4:\n",
    "# Please write a program to generate all sentences where subject is in [\"I\", \"You\"] and verb is in [\"Play\", \"Love\"] and the object is in [\"Hockey\",\"Football\"].\n",
    "\n",
    "sub= [\"I\", \"You\"]\n",
    "verb = [\"Play\", \"Love\"]\n",
    "objects = [\"Hockey\",\"Football\"]\n",
    "# res = [[i, j, k] for i in sub for j in verb for k in objects] \n",
    "for i in sub:\n",
    "    for j in verb:\n",
    "        for k in objects:\n",
    "            print(i,j,k)\n",
    "# print(res)\n",
    "# for x in res:\n",
    "#     print(x)\n"
   ]
  },
  {
   "cell_type": "code",
   "execution_count": 45,
   "id": "3c5245fd",
   "metadata": {},
   "outputs": [
    {
     "name": "stdout",
     "output_type": "stream",
     "text": [
      "b'x\\x9c\\xcbH\\xcd\\xc9\\xc9W(\\xcf/\\xcaIQ\\xcc \\x82\\r\\x00\\xbd[\\x11\\xf5'\n",
      "b'hello world!hello world!hello world!hello world!'\n"
     ]
    }
   ],
   "source": [
    "# Question 5:\n",
    "# Please write a program to compress and decompress the string \"hello world!hello world!hello world!hello world!\".\n",
    "import zlib\n",
    "s = 'hello world!hello world!hello world!hello world!'.encode()\n",
    "t = zlib.compress(s)\n",
    "print(t)\n",
    "u = zlib.decompress(t)\n",
    "print(u)\n",
    "\n"
   ]
  },
  {
   "cell_type": "code",
   "execution_count": 17,
   "id": "d426a8ca",
   "metadata": {},
   "outputs": [
    {
     "name": "stdout",
     "output_type": "stream",
     "text": [
      "Number is not available\n"
     ]
    }
   ],
   "source": [
    "\n",
    "# Question 6:\n",
    "# Please write a binary search function which searches an item in a sorted list. The function should return the index of element to be searched in the list.\n",
    "\n",
    "from bisect import bisect_left\n",
    "\n",
    "def BinarySearch(a, x):\n",
    "    i = bisect_left(a,x)\n",
    "    if i != len(a) and a[i] == x:\n",
    "        print(f\"number{x} is available at {i} \")\n",
    "    else:\n",
    "        print(\"Number is not available\")\n",
    "\n",
    "a  = [1, 1, 4, 5, 6,8]\n",
    "x = int(19)\n",
    "res = BinarySearch(a, x)"
   ]
  },
  {
   "cell_type": "code",
   "execution_count": null,
   "id": "f4fc0a24",
   "metadata": {},
   "outputs": [],
   "source": []
  }
 ],
 "metadata": {
  "kernelspec": {
   "display_name": "Python 3 (ipykernel)",
   "language": "python",
   "name": "python3"
  },
  "language_info": {
   "codemirror_mode": {
    "name": "ipython",
    "version": 3
   },
   "file_extension": ".py",
   "mimetype": "text/x-python",
   "name": "python",
   "nbconvert_exporter": "python",
   "pygments_lexer": "ipython3",
   "version": "3.10.4"
  }
 },
 "nbformat": 4,
 "nbformat_minor": 5
}
